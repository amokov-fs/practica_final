{
 "cells": [
  {
   "cell_type": "markdown",
   "metadata": {},
   "source": [
    "Importación de tablas"
   ]
  },
  {
   "cell_type": "code",
   "execution_count": 63,
   "metadata": {},
   "outputs": [],
   "source": [
    "from sqlalchemy import create_engine\n",
    "import pandas as pd\n",
    "\n",
    "usuario = \"root\"\n",
    "clave = \"\"\n",
    "host = \"127.0.0.1\"\n",
    "puerto = \"3306\"\n",
    "nombre_bd = \"practica\"\n",
    "\n",
    "engine = create_engine(f\"mysql+pymysql://{usuario}:{clave}@{host}:{puerto}/{nombre_bd}\")\n",
    "\n",
    "empleados = pd.read_sql(\"SELECT * FROM em_empleados\", engine)\n",
    "proyectos = pd.read_sql(\"SELECT * FROM pr_proyectos\", engine)\n",
    "empleados_proyecto = pd.read_sql(\"SELECT * FROM pr_empleados_proyecto\", engine)"
   ]
  },
  {
   "cell_type": "markdown",
   "metadata": {},
   "source": [
    "Top 5 empleados más antiguos"
   ]
  },
  {
   "cell_type": "code",
   "execution_count": 64,
   "metadata": {},
   "outputs": [
    {
     "data": {
      "text/html": [
       "<div>\n",
       "<style scoped>\n",
       "    .dataframe tbody tr th:only-of-type {\n",
       "        vertical-align: middle;\n",
       "    }\n",
       "\n",
       "    .dataframe tbody tr th {\n",
       "        vertical-align: top;\n",
       "    }\n",
       "\n",
       "    .dataframe thead th {\n",
       "        text-align: right;\n",
       "    }\n",
       "</style>\n",
       "<table border=\"1\" class=\"dataframe\">\n",
       "  <thead>\n",
       "    <tr style=\"text-align: right;\">\n",
       "      <th></th>\n",
       "      <th>id_empleado</th>\n",
       "      <th>tx_apellido1</th>\n",
       "      <th>tx_apellido2</th>\n",
       "      <th>cx_edocivil</th>\n",
       "      <th>tx_email</th>\n",
       "      <th>f_alta</th>\n",
       "      <th>f_baja</th>\n",
       "      <th>f_nacimiento</th>\n",
       "      <th>b_formacionu</th>\n",
       "      <th>tx_nif</th>\n",
       "      <th>tx_nombre</th>\n",
       "      <th>n_telefono1</th>\n",
       "      <th>n_telefono2</th>\n",
       "    </tr>\n",
       "  </thead>\n",
       "  <tbody>\n",
       "    <tr>\n",
       "      <th>7</th>\n",
       "      <td>14</td>\n",
       "      <td>Gómez</td>\n",
       "      <td>López</td>\n",
       "      <td>C</td>\n",
       "      <td>mgomez@fs.com</td>\n",
       "      <td>2017-02-25</td>\n",
       "      <td>None</td>\n",
       "      <td>1996-05-24</td>\n",
       "      <td>N</td>\n",
       "      <td>64152054B</td>\n",
       "      <td>Martín</td>\n",
       "      <td>675412898</td>\n",
       "      <td>913241547</td>\n",
       "    </tr>\n",
       "    <tr>\n",
       "      <th>4</th>\n",
       "      <td>5</td>\n",
       "      <td>Salinas</td>\n",
       "      <td>Irureta</td>\n",
       "      <td>S</td>\n",
       "      <td>jsalinas@fs.com</td>\n",
       "      <td>2017-03-08</td>\n",
       "      <td>None</td>\n",
       "      <td>1969-12-31</td>\n",
       "      <td>S</td>\n",
       "      <td>40578463H</td>\n",
       "      <td>Julio</td>\n",
       "      <td>698785521</td>\n",
       "      <td>605412241</td>\n",
       "    </tr>\n",
       "    <tr>\n",
       "      <th>1</th>\n",
       "      <td>2</td>\n",
       "      <td>Garcia</td>\n",
       "      <td>Perez</td>\n",
       "      <td>S</td>\n",
       "      <td>agarcia@fs.com</td>\n",
       "      <td>2019-01-08</td>\n",
       "      <td>None</td>\n",
       "      <td>2003-06-09</td>\n",
       "      <td>N</td>\n",
       "      <td>36525698C</td>\n",
       "      <td>Anton</td>\n",
       "      <td>611234552</td>\n",
       "      <td>698532328</td>\n",
       "    </tr>\n",
       "    <tr>\n",
       "      <th>5</th>\n",
       "      <td>9</td>\n",
       "      <td>Gonzalez</td>\n",
       "      <td>Gomez</td>\n",
       "      <td>S</td>\n",
       "      <td>agonzales@fs.com</td>\n",
       "      <td>2020-08-04</td>\n",
       "      <td>None</td>\n",
       "      <td>2005-02-23</td>\n",
       "      <td>S</td>\n",
       "      <td>25457631S</td>\n",
       "      <td>Alejandro</td>\n",
       "      <td>659845143</td>\n",
       "      <td>654918061</td>\n",
       "    </tr>\n",
       "    <tr>\n",
       "      <th>2</th>\n",
       "      <td>3</td>\n",
       "      <td>Sanchez</td>\n",
       "      <td>Perez</td>\n",
       "      <td>C</td>\n",
       "      <td>fsanchez@fs.com</td>\n",
       "      <td>2021-11-01</td>\n",
       "      <td>None</td>\n",
       "      <td>1999-12-31</td>\n",
       "      <td>S</td>\n",
       "      <td>89596565D</td>\n",
       "      <td>Francisco</td>\n",
       "      <td>633029869</td>\n",
       "      <td>956688741</td>\n",
       "    </tr>\n",
       "  </tbody>\n",
       "</table>\n",
       "</div>"
      ],
      "text/plain": [
       "   id_empleado tx_apellido1 tx_apellido2 cx_edocivil          tx_email  \\\n",
       "7           14        Gómez        López           C     mgomez@fs.com   \n",
       "4            5      Salinas      Irureta           S   jsalinas@fs.com   \n",
       "1            2       Garcia        Perez           S    agarcia@fs.com   \n",
       "5            9     Gonzalez        Gomez           S  agonzales@fs.com   \n",
       "2            3      Sanchez        Perez           C   fsanchez@fs.com   \n",
       "\n",
       "       f_alta f_baja f_nacimiento b_formacionu     tx_nif  tx_nombre  \\\n",
       "7  2017-02-25   None   1996-05-24            N  64152054B     Martín   \n",
       "4  2017-03-08   None   1969-12-31            S  40578463H      Julio   \n",
       "1  2019-01-08   None   2003-06-09            N  36525698C      Anton   \n",
       "5  2020-08-04   None   2005-02-23            S  25457631S  Alejandro   \n",
       "2  2021-11-01   None   1999-12-31            S  89596565D  Francisco   \n",
       "\n",
       "  n_telefono1 n_telefono2  \n",
       "7   675412898   913241547  \n",
       "4   698785521   605412241  \n",
       "1   611234552   698532328  \n",
       "5   659845143   654918061  \n",
       "2   633029869   956688741  "
      ]
     },
     "execution_count": 64,
     "metadata": {},
     "output_type": "execute_result"
    }
   ],
   "source": [
    "empleados.sort_values(\"f_alta\").head(5)"
   ]
  },
  {
   "cell_type": "markdown",
   "metadata": {},
   "source": [
    "Top 5 empleados más recientes"
   ]
  },
  {
   "cell_type": "code",
   "execution_count": 65,
   "metadata": {},
   "outputs": [
    {
     "data": {
      "text/html": [
       "<div>\n",
       "<style scoped>\n",
       "    .dataframe tbody tr th:only-of-type {\n",
       "        vertical-align: middle;\n",
       "    }\n",
       "\n",
       "    .dataframe tbody tr th {\n",
       "        vertical-align: top;\n",
       "    }\n",
       "\n",
       "    .dataframe thead th {\n",
       "        text-align: right;\n",
       "    }\n",
       "</style>\n",
       "<table border=\"1\" class=\"dataframe\">\n",
       "  <thead>\n",
       "    <tr style=\"text-align: right;\">\n",
       "      <th></th>\n",
       "      <th>id_empleado</th>\n",
       "      <th>tx_apellido1</th>\n",
       "      <th>tx_apellido2</th>\n",
       "      <th>cx_edocivil</th>\n",
       "      <th>tx_email</th>\n",
       "      <th>f_alta</th>\n",
       "      <th>f_baja</th>\n",
       "      <th>f_nacimiento</th>\n",
       "      <th>b_formacionu</th>\n",
       "      <th>tx_nif</th>\n",
       "      <th>tx_nombre</th>\n",
       "      <th>n_telefono1</th>\n",
       "      <th>n_telefono2</th>\n",
       "    </tr>\n",
       "  </thead>\n",
       "  <tbody>\n",
       "    <tr>\n",
       "      <th>3</th>\n",
       "      <td>4</td>\n",
       "      <td>Sanchez</td>\n",
       "      <td>Montalbo</td>\n",
       "      <td>S</td>\n",
       "      <td>psanchez@fs.com</td>\n",
       "      <td>2025-02-21</td>\n",
       "      <td>None</td>\n",
       "      <td>1987-02-26</td>\n",
       "      <td>S</td>\n",
       "      <td>36525698C</td>\n",
       "      <td>Pablo</td>\n",
       "      <td>659845140</td>\n",
       "      <td>654918060</td>\n",
       "    </tr>\n",
       "    <tr>\n",
       "      <th>0</th>\n",
       "      <td>1</td>\n",
       "      <td>Giraldez</td>\n",
       "      <td>Fidalgo</td>\n",
       "      <td>S</td>\n",
       "      <td>pgiraldez@fs.com</td>\n",
       "      <td>2023-07-21</td>\n",
       "      <td>None</td>\n",
       "      <td>1960-07-20</td>\n",
       "      <td>S</td>\n",
       "      <td>89417145J</td>\n",
       "      <td>Pascual</td>\n",
       "      <td>647250014</td>\n",
       "      <td>985452011</td>\n",
       "    </tr>\n",
       "    <tr>\n",
       "      <th>6</th>\n",
       "      <td>11</td>\n",
       "      <td>Cruzado</td>\n",
       "      <td>Martin</td>\n",
       "      <td>S</td>\n",
       "      <td>acruzado@fs.com</td>\n",
       "      <td>2022-02-21</td>\n",
       "      <td>None</td>\n",
       "      <td>2002-07-25</td>\n",
       "      <td>S</td>\n",
       "      <td>53084562K</td>\n",
       "      <td>Antonio</td>\n",
       "      <td>641054789</td>\n",
       "      <td>987514225</td>\n",
       "    </tr>\n",
       "    <tr>\n",
       "      <th>2</th>\n",
       "      <td>3</td>\n",
       "      <td>Sanchez</td>\n",
       "      <td>Perez</td>\n",
       "      <td>C</td>\n",
       "      <td>fsanchez@fs.com</td>\n",
       "      <td>2021-11-01</td>\n",
       "      <td>None</td>\n",
       "      <td>1999-12-31</td>\n",
       "      <td>S</td>\n",
       "      <td>89596565D</td>\n",
       "      <td>Francisco</td>\n",
       "      <td>633029869</td>\n",
       "      <td>956688741</td>\n",
       "    </tr>\n",
       "    <tr>\n",
       "      <th>5</th>\n",
       "      <td>9</td>\n",
       "      <td>Gonzalez</td>\n",
       "      <td>Gomez</td>\n",
       "      <td>S</td>\n",
       "      <td>agonzales@fs.com</td>\n",
       "      <td>2020-08-04</td>\n",
       "      <td>None</td>\n",
       "      <td>2005-02-23</td>\n",
       "      <td>S</td>\n",
       "      <td>25457631S</td>\n",
       "      <td>Alejandro</td>\n",
       "      <td>659845143</td>\n",
       "      <td>654918061</td>\n",
       "    </tr>\n",
       "  </tbody>\n",
       "</table>\n",
       "</div>"
      ],
      "text/plain": [
       "   id_empleado tx_apellido1 tx_apellido2 cx_edocivil          tx_email  \\\n",
       "3            4      Sanchez     Montalbo           S   psanchez@fs.com   \n",
       "0            1     Giraldez      Fidalgo           S  pgiraldez@fs.com   \n",
       "6           11      Cruzado       Martin           S   acruzado@fs.com   \n",
       "2            3      Sanchez        Perez           C   fsanchez@fs.com   \n",
       "5            9     Gonzalez        Gomez           S  agonzales@fs.com   \n",
       "\n",
       "       f_alta f_baja f_nacimiento b_formacionu     tx_nif  tx_nombre  \\\n",
       "3  2025-02-21   None   1987-02-26            S  36525698C      Pablo   \n",
       "0  2023-07-21   None   1960-07-20            S  89417145J    Pascual   \n",
       "6  2022-02-21   None   2002-07-25            S  53084562K    Antonio   \n",
       "2  2021-11-01   None   1999-12-31            S  89596565D  Francisco   \n",
       "5  2020-08-04   None   2005-02-23            S  25457631S  Alejandro   \n",
       "\n",
       "  n_telefono1 n_telefono2  \n",
       "3   659845140   654918060  \n",
       "0   647250014   985452011  \n",
       "6   641054789   987514225  \n",
       "2   633029869   956688741  \n",
       "5   659845143   654918061  "
      ]
     },
     "execution_count": 65,
     "metadata": {},
     "output_type": "execute_result"
    }
   ],
   "source": [
    "empleados.sort_values(\"f_alta\", ascending=False).head(5)"
   ]
  },
  {
   "cell_type": "markdown",
   "metadata": {},
   "source": [
    "Distribución del número de años de los empleados en la empresa"
   ]
  },
  {
   "cell_type": "code",
   "execution_count": 114,
   "metadata": {},
   "outputs": [
    {
     "name": "stdout",
     "output_type": "stream",
     "text": [
      "2023-07-21 1\n",
      "2019-01-08 6\n",
      "2021-11-01 3\n",
      "2025-02-21 0\n",
      "2017-03-08 8\n",
      "2020-08-04 4\n",
      "2022-02-21 3\n",
      "2017-02-25 8\n"
     ]
    },
    {
     "data": {
      "text/plain": [
       "<Axes: >"
      ]
     },
     "execution_count": 114,
     "metadata": {},
     "output_type": "execute_result"
    },
    {
     "data": {
      "image/png": "[encoded data removed]",
      "text/plain": [
       "<Figure size 640x480 with 1 Axes>"
      ]
     },
     "metadata": {},
     "output_type": "display_data"
    }
   ],
   "source": [
    "from datetime import date\n",
    "import matplotlib.pyplot as plt\n",
    "import numpy as np\n",
    "from dateutil.relativedelta import relativedelta\n",
    "hoy = date.today()\n",
    "\n",
    "antiguedades = []\n",
    "\n",
    "for empleado in empleados.values:\n",
    "    antiguedad = relativedelta(hoy, empleado[5]).years\n",
    "    print(empleado[5], antiguedad)\n",
    "    antiguedades.append(int(antiguedad))\n",
    "\n",
    "antiguedades_df = pd.DataFrame(antiguedades, columns = [\"antiguedad\"])\n",
    "\n",
    "antiguedades_df.plot(kind=\"bar\")\n",
    "    "
   ]
  },
  {
   "cell_type": "markdown",
   "metadata": {},
   "source": [
    "Evolución de las altas por año"
   ]
  },
  {
   "cell_type": "code",
   "execution_count": null,
   "metadata": {},
   "outputs": [
    {
     "data": {
      "text/plain": [
       "<Axes: title={'center': 'Evolución de altas por año'}, xlabel='Año de alta', ylabel='Número de altas'>"
      ]
     },
     "execution_count": 70,
     "metadata": {},
     "output_type": "execute_result"
    },
    {
     "data": {
      "image/png": "[encoded data removed]",
      "text/plain": [
       "<Figure size 640x480 with 1 Axes>"
      ]
     },
     "metadata": {},
     "output_type": "display_data"
    }
   ],
   "source": [
    "\n",
    "altas_years = pd.DatetimeIndex(empleados[\"f_alta\"]).year.value_counts().sort_index()\n",
    "\n",
    "altas_years.plot(title=\"Evolución de altas por año\", xlabel = \"Año\", ylabel=\"Número de altas\")\n"
   ]
  },
  {
   "cell_type": "markdown",
   "metadata": {},
   "source": [
    "Evolución de bajas por años"
   ]
  },
  {
   "cell_type": "code",
   "execution_count": 71,
   "metadata": {},
   "outputs": [
    {
     "data": {
      "text/plain": [
       "<Axes: title={'center': 'Evolución de bajas por año'}, xlabel='Año', ylabel='Número de bajas'>"
      ]
     },
     "execution_count": 71,
     "metadata": {},
     "output_type": "execute_result"
    },
    {
     "data": {
      "image/png": "[encoded data removed]",
      "text/plain": [
       "<Figure size 640x480 with 1 Axes>"
      ]
     },
     "metadata": {},
     "output_type": "display_data"
    }
   ],
   "source": [
    "bajas_years = pd.DatetimeIndex(empleados[\"f_baja\"]).year.value_counts().sort_index()\n",
    "\n",
    "bajas_years.plot(title=\"Evolución de bajas por año\", xlabel = \"Año\", ylabel=\"Número de bajas\")\n"
   ]
  },
  {
   "cell_type": "markdown",
   "metadata": {},
   "source": [
    "Años con mayor crecimiento/decrecimiento"
   ]
  },
  {
   "cell_type": "code",
   "execution_count": null,
   "metadata": {},
   "outputs": [],
   "source": []
  },
  {
   "cell_type": "markdown",
   "metadata": {},
   "source": [
    "Distribución de empleados solteros y casados"
   ]
  },
  {
   "cell_type": "code",
   "execution_count": null,
   "metadata": {},
   "outputs": [
    {
     "name": "stdout",
     "output_type": "stream",
     "text": [
      "cx_edocivil\n",
      "C    2\n",
      "S    6\n",
      "Name: count, dtype: int64\n"
     ]
    },
    {
     "data": {
      "text/plain": [
       "<Axes: xlabel='cx_edocivil'>"
      ]
     },
     "execution_count": 80,
     "metadata": {},
     "output_type": "execute_result"
    },
    {
     "data": {
      "image/png": "[encoded data removed]",
      "text/plain": [
       "<Figure size 640x480 with 1 Axes>"
      ]
     },
     "metadata": {},
     "output_type": "display_data"
    }
   ],
   "source": [
    "edos = empleados[\"cx_edocivil\"].value_counts().sort_index()\n",
    "\n",
    "edos.plot(kind=\"bar\")"
   ]
  },
  {
   "cell_type": "markdown",
   "metadata": {},
   "source": [
    "Distribución de edades de los empleados"
   ]
  },
  {
   "cell_type": "code",
   "execution_count": 120,
   "metadata": {},
   "outputs": [
    {
     "data": {
      "image/png": "[encoded data removed]",
      "text/plain": [
       "<Figure size 640x480 with 1 Axes>"
      ]
     },
     "metadata": {},
     "output_type": "display_data"
    }
   ],
   "source": [
    "\n",
    "\n",
    "edades = []\n",
    "\n",
    "for fNac in empleados[\"f_nacimiento\"].values:\n",
    "    edad = hoy - fNac\n",
    "    edad_years = relativedelta(hoy, fNac).years\n",
    "    edades.append(edad_years)\n",
    "    \n",
    "\n",
    "edades_df = pd.DataFrame(edades, columns = [\"edad\"])\n",
    "\n",
    "x = np.array(edades)\n",
    "y = np.array(edades_df.value_counts().sort_index())\n",
    "\n",
    "plt.bar(x,y)\n",
    "plt.show()\n",
    "    "
   ]
  },
  {
   "cell_type": "markdown",
   "metadata": {},
   "source": [
    "Edad media y desviación típica de los empleados"
   ]
  },
  {
   "cell_type": "code",
   "execution_count": 142,
   "metadata": {},
   "outputs": [
    {
     "name": "stdout",
     "output_type": "stream",
     "text": [
      "Edad media empleados: 34.12 años\n",
      "Desviación típica empleados: 16.83 años\n"
     ]
    }
   ],
   "source": [
    "import statistics\n",
    "\n",
    "edadMedia = edades_df.mean().values[0]\n",
    "desvTipica = statistics.stdev(edades)\n",
    "\n",
    "print(f\"Edad media empleados: {edadMedia:.2f} años\")\n",
    "print(f\"Desviación típica empleados: {desvTipica:.2f} años\")\n"
   ]
  },
  {
   "cell_type": "markdown",
   "metadata": {},
   "source": [
    "Proyectos"
   ]
  },
  {
   "cell_type": "markdown",
   "metadata": {},
   "source": [
    "Número de proyectos activos, finalizados y total"
   ]
  },
  {
   "cell_type": "code",
   "execution_count": 169,
   "metadata": {},
   "outputs": [
    {
     "name": "stdout",
     "output_type": "stream",
     "text": [
      "7\n",
      "0\n",
      "7\n"
     ]
    }
   ],
   "source": [
    "from datetime import datetime\n",
    "\n",
    "countActive = 0\n",
    "countFinished = 0\n",
    "countTotal = len(proyectos.values)\n",
    "\n",
    "for proyecto in proyectos[[\"f_baja\",\"f_fin\"]].values:\n",
    "    fBaja = proyecto[0]\n",
    "    fFin = proyecto[1]\n",
    "    if fBaja == None:\n",
    "        countActive += 1\n",
    "    if fFin and fFin < hoy:\n",
    "        countFinished += 1\n",
    "\n",
    "print(countActive)\n",
    "print(countFinished)\n",
    "print(countTotal)"
   ]
  }
 ],
 "metadata": {
  "kernelspec": {
   "display_name": "Python 3",
   "language": "python",
   "name": "python3"
  },
  "language_info": {
   "codemirror_mode": {
    "name": "ipython",
    "version": 3
   },
   "file_extension": ".py",
   "mimetype": "text/x-python",
   "name": "python",
   "nbconvert_exporter": "python",
   "pygments_lexer": "ipython3",
   "version": "3.12.9"
  }
 },
 "nbformat": 4,
 "nbformat_minor": 2
}
