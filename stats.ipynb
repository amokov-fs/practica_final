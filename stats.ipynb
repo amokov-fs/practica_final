{
 "cells": [
  {
   "cell_type": "markdown",
   "metadata": {},
   "source": [
    "Importación de tablas"
   ]
  },
  {
   "cell_type": "code",
   "execution_count": 1,
   "metadata": {},
   "outputs": [],
   "source": [
    "from sqlalchemy import create_engine\n",
    "import pandas as pd\n",
    "\n",
    "usuario = \"root\"\n",
    "clave = \"\"\n",
    "host = \"127.0.0.1\"\n",
    "puerto = \"3306\"\n",
    "nombre_bd = \"practica\"\n",
    "\n",
    "engine = create_engine(f\"mysql+pymysql://{usuario}:{clave}@{host}:{puerto}/{nombre_bd}\")\n",
    "\n",
    "empleados = pd.read_sql(\"SELECT * FROM em_empleados\", engine)\n",
    "proyectos = pd.read_sql(\"SELECT * FROM pr_proyectos\", engine)\n",
    "empleados_proyecto = pd.read_sql(\"SELECT * FROM pr_empleados_proyecto\", engine)"
   ]
  },
  {
   "cell_type": "markdown",
   "metadata": {},
   "source": [
    "Top 5 empleados más antiguos"
   ]
  },
  {
   "cell_type": "code",
   "execution_count": 2,
   "metadata": {},
   "outputs": [
    {
     "data": {
      "text/html": [
       "<div>\n",
       "<style scoped>\n",
       "    .dataframe tbody tr th:only-of-type {\n",
       "        vertical-align: middle;\n",
       "    }\n",
       "\n",
       "    .dataframe tbody tr th {\n",
       "        vertical-align: top;\n",
       "    }\n",
       "\n",
       "    .dataframe thead th {\n",
       "        text-align: right;\n",
       "    }\n",
       "</style>\n",
       "<table border=\"1\" class=\"dataframe\">\n",
       "  <thead>\n",
       "    <tr style=\"text-align: right;\">\n",
       "      <th></th>\n",
       "      <th>id_empleado</th>\n",
       "      <th>tx_apellido1</th>\n",
       "      <th>tx_apellido2</th>\n",
       "      <th>cx_edocivil</th>\n",
       "      <th>tx_email</th>\n",
       "      <th>f_alta</th>\n",
       "      <th>f_baja</th>\n",
       "      <th>f_nacimiento</th>\n",
       "      <th>b_formacionu</th>\n",
       "      <th>tx_nif</th>\n",
       "      <th>tx_nombre</th>\n",
       "      <th>n_telefono1</th>\n",
       "      <th>n_telefono2</th>\n",
       "    </tr>\n",
       "  </thead>\n",
       "  <tbody>\n",
       "    <tr>\n",
       "      <th>47</th>\n",
       "      <td>48</td>\n",
       "      <td>Benítez</td>\n",
       "      <td>Ruiz</td>\n",
       "      <td>S</td>\n",
       "      <td>santiago.benitez@example.com</td>\n",
       "      <td>2015-06-11</td>\n",
       "      <td>2020-04-12</td>\n",
       "      <td>1984-07-19</td>\n",
       "      <td>N</td>\n",
       "      <td>48234605Z</td>\n",
       "      <td>Santiago</td>\n",
       "      <td>683456816</td>\n",
       "      <td>628654348</td>\n",
       "    </tr>\n",
       "    <tr>\n",
       "      <th>27</th>\n",
       "      <td>28</td>\n",
       "      <td>Ortega</td>\n",
       "      <td>Vargas</td>\n",
       "      <td>C</td>\n",
       "      <td>mateo.ortega@example.com</td>\n",
       "      <td>2015-07-28</td>\n",
       "      <td>None</td>\n",
       "      <td>1984-04-04</td>\n",
       "      <td>N</td>\n",
       "      <td>28234585D</td>\n",
       "      <td>Mateo</td>\n",
       "      <td>683456796</td>\n",
       "      <td>628654328</td>\n",
       "    </tr>\n",
       "    <tr>\n",
       "      <th>7</th>\n",
       "      <td>8</td>\n",
       "      <td>Gil</td>\n",
       "      <td>Ruiz</td>\n",
       "      <td>C</td>\n",
       "      <td>alvaro.gil@example.com</td>\n",
       "      <td>2015-10-22</td>\n",
       "      <td>2023-05-05</td>\n",
       "      <td>1986-04-19</td>\n",
       "      <td>S</td>\n",
       "      <td>89012345H</td>\n",
       "      <td>Álvaro</td>\n",
       "      <td>682345685</td>\n",
       "      <td>628765425</td>\n",
       "    </tr>\n",
       "    <tr>\n",
       "      <th>37</th>\n",
       "      <td>38</td>\n",
       "      <td>Méndez</td>\n",
       "      <td>González</td>\n",
       "      <td>S</td>\n",
       "      <td>luis.mendez@example.com</td>\n",
       "      <td>2015-11-03</td>\n",
       "      <td>None</td>\n",
       "      <td>1983-10-13</td>\n",
       "      <td>S</td>\n",
       "      <td>38234595P</td>\n",
       "      <td>Luis</td>\n",
       "      <td>683456806</td>\n",
       "      <td>628654338</td>\n",
       "    </tr>\n",
       "    <tr>\n",
       "      <th>17</th>\n",
       "      <td>18</td>\n",
       "      <td>Castro</td>\n",
       "      <td>Gil</td>\n",
       "      <td>C</td>\n",
       "      <td>javier.castro@example.com</td>\n",
       "      <td>2015-12-02</td>\n",
       "      <td>None</td>\n",
       "      <td>1988-12-27</td>\n",
       "      <td>S</td>\n",
       "      <td>18234575T</td>\n",
       "      <td>Javier</td>\n",
       "      <td>681234574</td>\n",
       "      <td>629876550</td>\n",
       "    </tr>\n",
       "  </tbody>\n",
       "</table>\n",
       "</div>"
      ],
      "text/plain": [
       "    id_empleado tx_apellido1 tx_apellido2 cx_edocivil  \\\n",
       "47           48      Benítez         Ruiz           S   \n",
       "27           28       Ortega       Vargas           C   \n",
       "7             8          Gil         Ruiz           C   \n",
       "37           38       Méndez     González           S   \n",
       "17           18       Castro          Gil           C   \n",
       "\n",
       "                        tx_email      f_alta      f_baja f_nacimiento  \\\n",
       "47  santiago.benitez@example.com  2015-06-11  2020-04-12   1984-07-19   \n",
       "27      mateo.ortega@example.com  2015-07-28        None   1984-04-04   \n",
       "7         alvaro.gil@example.com  2015-10-22  2023-05-05   1986-04-19   \n",
       "37       luis.mendez@example.com  2015-11-03        None   1983-10-13   \n",
       "17     javier.castro@example.com  2015-12-02        None   1988-12-27   \n",
       "\n",
       "   b_formacionu     tx_nif tx_nombre n_telefono1 n_telefono2  \n",
       "47            N  48234605Z  Santiago   683456816   628654348  \n",
       "27            N  28234585D     Mateo   683456796   628654328  \n",
       "7             S  89012345H    Álvaro   682345685   628765425  \n",
       "37            S  38234595P      Luis   683456806   628654338  \n",
       "17            S  18234575T    Javier   681234574   629876550  "
      ]
     },
     "execution_count": 2,
     "metadata": {},
     "output_type": "execute_result"
    }
   ],
   "source": [
    "empleados.sort_values(\"f_alta\").head(5)"
   ]
  },
  {
   "cell_type": "markdown",
   "metadata": {},
   "source": [
    "Top 5 empleados más recientes"
   ]
  },
  {
   "cell_type": "code",
   "execution_count": 3,
   "metadata": {},
   "outputs": [
    {
     "data": {
      "text/html": [
       "<div>\n",
       "<style scoped>\n",
       "    .dataframe tbody tr th:only-of-type {\n",
       "        vertical-align: middle;\n",
       "    }\n",
       "\n",
       "    .dataframe tbody tr th {\n",
       "        vertical-align: top;\n",
       "    }\n",
       "\n",
       "    .dataframe thead th {\n",
       "        text-align: right;\n",
       "    }\n",
       "</style>\n",
       "<table border=\"1\" class=\"dataframe\">\n",
       "  <thead>\n",
       "    <tr style=\"text-align: right;\">\n",
       "      <th></th>\n",
       "      <th>id_empleado</th>\n",
       "      <th>tx_apellido1</th>\n",
       "      <th>tx_apellido2</th>\n",
       "      <th>cx_edocivil</th>\n",
       "      <th>tx_email</th>\n",
       "      <th>f_alta</th>\n",
       "      <th>f_baja</th>\n",
       "      <th>f_nacimiento</th>\n",
       "      <th>b_formacionu</th>\n",
       "      <th>tx_nif</th>\n",
       "      <th>tx_nombre</th>\n",
       "      <th>n_telefono1</th>\n",
       "      <th>n_telefono2</th>\n",
       "    </tr>\n",
       "  </thead>\n",
       "  <tbody>\n",
       "    <tr>\n",
       "      <th>50</th>\n",
       "      <td>51</td>\n",
       "      <td>Mokov</td>\n",
       "      <td>Ivanchov</td>\n",
       "      <td>S</td>\n",
       "      <td>amokov@fs.com</td>\n",
       "      <td>2025-01-17</td>\n",
       "      <td>None</td>\n",
       "      <td>2001-05-28</td>\n",
       "      <td>S</td>\n",
       "      <td>55408565H</td>\n",
       "      <td>Alejandro</td>\n",
       "      <td>648400557</td>\n",
       "      <td>654918060</td>\n",
       "    </tr>\n",
       "    <tr>\n",
       "      <th>46</th>\n",
       "      <td>47</td>\n",
       "      <td>Rey</td>\n",
       "      <td>Pérez</td>\n",
       "      <td>S</td>\n",
       "      <td>alicia.rey@example.com</td>\n",
       "      <td>2023-07-07</td>\n",
       "      <td>None</td>\n",
       "      <td>1992-04-08</td>\n",
       "      <td>S</td>\n",
       "      <td>47234604Y</td>\n",
       "      <td>Alicia</td>\n",
       "      <td>673456815</td>\n",
       "      <td>638654347</td>\n",
       "    </tr>\n",
       "    <tr>\n",
       "      <th>36</th>\n",
       "      <td>37</td>\n",
       "      <td>Peña</td>\n",
       "      <td>López</td>\n",
       "      <td>S</td>\n",
       "      <td>carmen.pena@example.com</td>\n",
       "      <td>2023-06-19</td>\n",
       "      <td>None</td>\n",
       "      <td>1991-07-26</td>\n",
       "      <td>S</td>\n",
       "      <td>37234594N</td>\n",
       "      <td>Carmen</td>\n",
       "      <td>673456805</td>\n",
       "      <td>638654337</td>\n",
       "    </tr>\n",
       "    <tr>\n",
       "      <th>28</th>\n",
       "      <td>29</td>\n",
       "      <td>Santos</td>\n",
       "      <td>Fernández</td>\n",
       "      <td>S</td>\n",
       "      <td>natalia.santos@example.com</td>\n",
       "      <td>2023-04-05</td>\n",
       "      <td>None</td>\n",
       "      <td>1993-03-11</td>\n",
       "      <td>S</td>\n",
       "      <td>29234586E</td>\n",
       "      <td>Natalia</td>\n",
       "      <td>693456797</td>\n",
       "      <td>618654329</td>\n",
       "    </tr>\n",
       "    <tr>\n",
       "      <th>18</th>\n",
       "      <td>19</td>\n",
       "      <td>Herrera</td>\n",
       "      <td>Marín</td>\n",
       "      <td>S</td>\n",
       "      <td>nuria.herrera@example.com</td>\n",
       "      <td>2023-03-15</td>\n",
       "      <td>None</td>\n",
       "      <td>1997-09-12</td>\n",
       "      <td>S</td>\n",
       "      <td>19234576U</td>\n",
       "      <td>Nuria</td>\n",
       "      <td>691234575</td>\n",
       "      <td>619876551</td>\n",
       "    </tr>\n",
       "  </tbody>\n",
       "</table>\n",
       "</div>"
      ],
      "text/plain": [
       "    id_empleado tx_apellido1 tx_apellido2 cx_edocivil  \\\n",
       "50           51        Mokov     Ivanchov           S   \n",
       "46           47          Rey        Pérez           S   \n",
       "36           37         Peña        López           S   \n",
       "28           29       Santos    Fernández           S   \n",
       "18           19      Herrera        Marín           S   \n",
       "\n",
       "                      tx_email      f_alta f_baja f_nacimiento b_formacionu  \\\n",
       "50               amokov@fs.com  2025-01-17   None   2001-05-28            S   \n",
       "46      alicia.rey@example.com  2023-07-07   None   1992-04-08            S   \n",
       "36     carmen.pena@example.com  2023-06-19   None   1991-07-26            S   \n",
       "28  natalia.santos@example.com  2023-04-05   None   1993-03-11            S   \n",
       "18   nuria.herrera@example.com  2023-03-15   None   1997-09-12            S   \n",
       "\n",
       "       tx_nif  tx_nombre n_telefono1 n_telefono2  \n",
       "50  55408565H  Alejandro   648400557   654918060  \n",
       "46  47234604Y     Alicia   673456815   638654347  \n",
       "36  37234594N     Carmen   673456805   638654337  \n",
       "28  29234586E    Natalia   693456797   618654329  \n",
       "18  19234576U      Nuria   691234575   619876551  "
      ]
     },
     "execution_count": 3,
     "metadata": {},
     "output_type": "execute_result"
    }
   ],
   "source": [
    "empleados.sort_values(\"f_alta\", ascending=False).head(5)"
   ]
  },
  {
   "cell_type": "markdown",
   "metadata": {},
   "source": [
    "Distribución del número de años de los empleados en la empresa"
   ]
  },
  {
   "cell_type": "code",
   "execution_count": 4,
   "metadata": {},
   "outputs": [
    {
     "data": {
      "text/plain": [
       "<Axes: ylabel='Frequency'>"
      ]
     },
     "execution_count": 4,
     "metadata": {},
     "output_type": "execute_result"
    },
    {
     "data": {
      "image/png": "[encoded data removed]",
      "text/plain": [
       "<Figure size 640x480 with 1 Axes>"
      ]
     },
     "metadata": {},
     "output_type": "display_data"
    }
   ],
   "source": [
    "from datetime import date\n",
    "import matplotlib.pyplot as plt\n",
    "import numpy as np\n",
    "from dateutil.relativedelta import relativedelta\n",
    "hoy = date.today()\n",
    "\n",
    "antiguedades = []\n",
    "\n",
    "for empleado in empleados.values:\n",
    "    antiguedad = relativedelta(hoy, empleado[5]).years\n",
    "    antiguedades.append(int(antiguedad))\n",
    "\n",
    "\n",
    "antiguedades_df = pd.DataFrame(antiguedades, columns = [\"antiguedad\"])\n",
    "\n",
    "antiguedades_df.plot(kind=\"hist\", bins = 21)\n",
    "    "
   ]
  },
  {
   "cell_type": "markdown",
   "metadata": {},
   "source": [
    "Evolución de las altas por año"
   ]
  },
  {
   "cell_type": "code",
   "execution_count": 36,
   "metadata": {},
   "outputs": [
    {
     "data": {
      "text/plain": [
       "<Axes: title={'center': 'Evolución de altas por año'}, xlabel='Año', ylabel='Número de altas'>"
      ]
     },
     "execution_count": 36,
     "metadata": {},
     "output_type": "execute_result"
    },
    {
     "data": {
      "image/png": "[encoded data removed]",
      "text/plain": [
       "<Figure size 640x480 with 1 Axes>"
      ]
     },
     "metadata": {},
     "output_type": "display_data"
    }
   ],
   "source": [
    "\n",
    "altas_years = pd.DatetimeIndex(empleados[\"f_alta\"]).year.value_counts().sort_index()\n",
    "\n",
    "altas_years.plot(title=\"Evolución de altas por año\", xlabel = \"Año\", ylabel=\"Número de altas\")\n"
   ]
  },
  {
   "cell_type": "markdown",
   "metadata": {},
   "source": [
    "Evolución de bajas por años"
   ]
  },
  {
   "cell_type": "code",
   "execution_count": 6,
   "metadata": {},
   "outputs": [
    {
     "data": {
      "text/plain": [
       "<Axes: title={'center': 'Evolución de bajas por año'}, xlabel='Año', ylabel='Número de bajas'>"
      ]
     },
     "execution_count": 6,
     "metadata": {},
     "output_type": "execute_result"
    },
    {
     "data": {
      "image/png": "[encoded data removed]",
      "text/plain": [
       "<Figure size 640x480 with 1 Axes>"
      ]
     },
     "metadata": {},
     "output_type": "display_data"
    }
   ],
   "source": [
    "bajas_years = pd.DatetimeIndex(empleados[\"f_baja\"]).year.value_counts().sort_index()\n",
    "\n",
    "bajas_years.plot(title=\"Evolución de bajas por año\", xlabel = \"Año\", ylabel=\"Número de bajas\")\n"
   ]
  },
  {
   "cell_type": "markdown",
   "metadata": {},
   "source": [
    "Años con mayor crecimiento/decrecimiento"
   ]
  },
  {
   "cell_type": "code",
   "execution_count": 44,
   "metadata": {},
   "outputs": [
    {
     "name": "stdout",
     "output_type": "stream",
     "text": [
      "Año con mayor crecimiento: 2020 con 7 altas\n",
      "Año con mayor decrecimiento: 2023 con 3 bajas\n"
     ]
    }
   ],
   "source": [
    "top_1_altas = altas_years.sort_values(ascending=False).head(1)\n",
    "\n",
    "year_most = top_1_altas.index[0] \n",
    "altas_most = top_1_altas.iloc[0] \n",
    "\n",
    "print(f\"Año con mayor crecimiento: {year_most} con {altas_most} altas\")\n",
    "\n",
    "top_1_bajas = bajas_years.sort_values(ascending=False).head(1)\n",
    "\n",
    "year_least = int(top_1_bajas.index[0]) \n",
    "altas_least = top_1_bajas.iloc[0] \n",
    "\n",
    "print(f\"Año con mayor decrecimiento: {year_least} con {altas_least} bajas\")\n"
   ]
  },
  {
   "cell_type": "markdown",
   "metadata": {},
   "source": [
    "Distribución de empleados solteros y casados"
   ]
  },
  {
   "cell_type": "code",
   "execution_count": 7,
   "metadata": {},
   "outputs": [
    {
     "data": {
      "text/plain": [
       "<Axes: xlabel='cx_edocivil'>"
      ]
     },
     "execution_count": 7,
     "metadata": {},
     "output_type": "execute_result"
    },
    {
     "data": {
      "image/png": "[encoded data removed]",
      "text/plain": [
       "<Figure size 640x480 with 1 Axes>"
      ]
     },
     "metadata": {},
     "output_type": "display_data"
    }
   ],
   "source": [
    "edos = empleados[\"cx_edocivil\"].value_counts().sort_index()\n",
    "\n",
    "edos.plot(kind=\"bar\")"
   ]
  },
  {
   "cell_type": "markdown",
   "metadata": {},
   "source": [
    "Distribución de edades de los empleados"
   ]
  },
  {
   "cell_type": "code",
   "execution_count": 37,
   "metadata": {},
   "outputs": [
    {
     "data": {
      "text/plain": [
       "<Axes: ylabel='Frequency'>"
      ]
     },
     "execution_count": 37,
     "metadata": {},
     "output_type": "execute_result"
    },
    {
     "data": {
      "image/png": "[encoded data removed]",
      "text/plain": [
       "<Figure size 640x480 with 1 Axes>"
      ]
     },
     "metadata": {},
     "output_type": "display_data"
    }
   ],
   "source": [
    "edades = []\n",
    "\n",
    "for fNac in empleados[\"f_nacimiento\"].values:\n",
    "    edad = hoy - fNac\n",
    "    edad_years = relativedelta(hoy, fNac).years\n",
    "    edades.append(edad_years)\n",
    "    \n",
    "\n",
    "edades_df = pd.DataFrame(edades, columns = [\"edad\"])\n",
    "\n",
    "edades_df.plot(kind=\"hist\", bins = 45)\n",
    "\n",
    "    "
   ]
  },
  {
   "cell_type": "markdown",
   "metadata": {},
   "source": [
    "Edad media y desviación típica de los empleados"
   ]
  },
  {
   "cell_type": "code",
   "execution_count": 9,
   "metadata": {},
   "outputs": [
    {
     "name": "stdout",
     "output_type": "stream",
     "text": [
      "Edad media empleados: 35.16 años\n",
      "Desviación típica empleados: 4.78 años\n"
     ]
    }
   ],
   "source": [
    "import statistics\n",
    "\n",
    "edadMedia = edades_df.mean().values[0]\n",
    "desvTipica = statistics.stdev(edades)\n",
    "\n",
    "print(f\"Edad media empleados: {edadMedia:.2f} años\")\n",
    "print(f\"Desviación típica empleados: {desvTipica:.2f} años\")\n"
   ]
  },
  {
   "cell_type": "markdown",
   "metadata": {},
   "source": [
    "Proyectos"
   ]
  },
  {
   "cell_type": "markdown",
   "metadata": {},
   "source": [
    "Número de proyectos activos, finalizados y total"
   ]
  },
  {
   "cell_type": "code",
   "execution_count": 10,
   "metadata": {},
   "outputs": [
    {
     "name": "stdout",
     "output_type": "stream",
     "text": [
      "Proyectos activos: 12\n",
      "Proyectos finalizados: 8\n",
      "Proyectos totales: 20\n"
     ]
    }
   ],
   "source": [
    "countActive = 0\n",
    "countFinished = 0\n",
    "countTotal = len(proyectos.values)\n",
    "\n",
    "for fFin in proyectos[\"f_fin\"].values:\n",
    "    if fFin:\n",
    "        if fFin < hoy:\n",
    "            countFinished += 1\n",
    "        else:\n",
    "            countActive += 1\n",
    "\n",
    "print(f\"Proyectos activos: {countActive}\")\n",
    "print(f\"Proyectos finalizados: {countFinished}\")\n",
    "print(f\"Proyectos totales: {countTotal}\")"
   ]
  },
  {
   "cell_type": "markdown",
   "metadata": {},
   "source": [
    "Distribución de la duración de los proyectos (histograma)"
   ]
  },
  {
   "cell_type": "code",
   "execution_count": 16,
   "metadata": {},
   "outputs": [
    {
     "data": {
      "text/plain": [
       "<Axes: ylabel='Frequency'>"
      ]
     },
     "execution_count": 16,
     "metadata": {},
     "output_type": "execute_result"
    },
    {
     "data": {
      "image/png": "[encoded data removed]",
      "text/plain": [
       "<Figure size 640x480 with 1 Axes>"
      ]
     },
     "metadata": {},
     "output_type": "display_data"
    }
   ],
   "source": [
    "duraciones = []\n",
    "\n",
    "for proyecto in proyectos[[\"f_inicio\",\"f_fin\"]].values:\n",
    "    if proyecto[1]:\n",
    "        duracion_years = relativedelta(proyecto[1], proyecto[0]).years\n",
    "    else:\n",
    "        duracion_years = relativedelta(hoy, proyecto[0]).years\n",
    "    duraciones.append(int(duracion_years))\n",
    "\n",
    "\n",
    "\n",
    "antiguedades_df = pd.DataFrame(duraciones, columns = [\"antiguedad\"])\n",
    "\n",
    "antiguedades_df.plot(kind=\"hist\", bins = 12)"
   ]
  },
  {
   "cell_type": "markdown",
   "metadata": {},
   "source": [
    "Distribución de proyectos por lugar"
   ]
  },
  {
   "cell_type": "code",
   "execution_count": 12,
   "metadata": {},
   "outputs": [
    {
     "data": {
      "image/png": "[encoded data removed]",
      "text/plain": [
       "<Figure size 640x480 with 1 Axes>"
      ]
     },
     "metadata": {},
     "output_type": "display_data"
    }
   ],
   "source": [
    "lugares = {}\n",
    "\n",
    "for proyecto in proyectos[\"tx_lugar\"].values:\n",
    "    if proyecto not in lugares.keys():\n",
    "        lugares[proyecto] = 1\n",
    "    else:\n",
    "        lugares[proyecto] += 1\n",
    "\n",
    "\n",
    "x = np.array(list(lugares.keys()))\n",
    "y = np.array(list((lugares.values())))\n",
    "\n",
    "plt.bar(x,y)\n",
    "plt.show()"
   ]
  },
  {
   "cell_type": "markdown",
   "metadata": {},
   "source": [
    "Empleados a Proyectos"
   ]
  },
  {
   "cell_type": "markdown",
   "metadata": {},
   "source": [
    "Distribución del número de proyectos a los que están asignados los empleados en activo."
   ]
  },
  {
   "cell_type": "code",
   "execution_count": 45,
   "metadata": {},
   "outputs": [
    {
     "name": "stdout",
     "output_type": "stream",
     "text": [
      "Personas asignadas a 1 proyectos: 2\n",
      "Personas asignadas a 3 proyectos: 1\n",
      "Personas asignadas a 4 proyectos: 4\n",
      "Personas asignadas a 5 proyectos: 4\n"
     ]
    }
   ],
   "source": [
    "asignaciones_por_empleado = {}\n",
    "  \n",
    "\n",
    "for asignacion in empleados_proyecto[[\"id_empleado\", \"id_proyecto\"]].values:\n",
    "    id_empleado = int(asignacion[0])\n",
    "    id_proyecto = int(asignacion[1])\n",
    "    if id_empleado not in asignaciones_por_empleado.keys():\n",
    "        asignaciones_por_empleado[id_empleado] = [id_proyecto]\n",
    "    else:\n",
    "        asignaciones_por_empleado[id_empleado].append(id_proyecto)\n",
    "\n",
    "asignaciones_por_empleado_counts = {}\n",
    "  \n",
    "\n",
    "for asignacion in asignaciones_por_empleado.values():\n",
    "    key = len(asignacion)\n",
    "    if key not in asignaciones_por_empleado_counts.keys():\n",
    "        asignaciones_por_empleado_counts[key] = 1\n",
    "    else:\n",
    "        asignaciones_por_empleado_counts[key] += 1\n",
    "\n",
    "for key in sorted(list(asignaciones_por_empleado_counts.keys())):\n",
    "    print(f\"Personas asignadas a {key} proyectos: {asignaciones_por_empleado_counts[key]}\")\n"
   ]
  },
  {
   "cell_type": "markdown",
   "metadata": {},
   "source": [
    "Top 5 proyectos con más personas asignadas"
   ]
  },
  {
   "cell_type": "code",
   "execution_count": 14,
   "metadata": {},
   "outputs": [
    {
     "name": "stdout",
     "output_type": "stream",
     "text": [
      "Top 5:\n",
      "1: Proyecto Desarrollo de aplicación móvil para gestión de citas médicas con 5 personas\n",
      "2: Proyecto Desarrollo de sistema de control de inventario con 3 personas\n",
      "3: Proyecto Plataforma de colaboración en línea para docentes con 3 personas\n",
      "4: Proyecto Migración de base de datos Oracle a PostgreSQL con 3 personas\n",
      "5: Proyecto Plataforma e-learning para formación interna con 3 personas\n"
     ]
    }
   ],
   "source": [
    "import heapq\n",
    "\n",
    "asignaciones_por_proyecto = {}\n",
    "\n",
    "for asignacion in empleados_proyecto[[\"id_empleado\", \"id_proyecto\"]].values:\n",
    "    id_empleado = int(asignacion[0])\n",
    "    id_proyecto = int(asignacion[1])\n",
    "    \n",
    "    if id_proyecto not in asignaciones_por_proyecto.keys():\n",
    "        asignaciones_por_proyecto[id_proyecto] = [id_empleado]\n",
    "    else:\n",
    "        asignaciones_por_proyecto[id_proyecto].append(id_empleado)\n",
    "\n",
    "\n",
    "for id_proyecto in asignaciones_por_proyecto.keys():\n",
    "    asignaciones_por_proyecto[id_proyecto] = len(asignaciones_por_proyecto[id_proyecto])\n",
    "\n",
    "top5 = heapq.nlargest(5, asignaciones_por_proyecto, key=asignaciones_por_proyecto.get)\n",
    "proyectos_descripciones = {}\n",
    "\n",
    "for proyecto in proyectos[[\"id_proyecto\", \"tx_descripción\"]].values:\n",
    "    proyectos_descripciones[proyecto[0]] = proyecto[1]\n",
    "\n",
    "\n",
    "print(\"Top 5:\")\n",
    "for i in range(len(top5)):\n",
    "    print(f\"{i+1}: Proyecto {proyectos_descripciones[top5[i]]} con {asignaciones_por_proyecto[top5[i]]} personas\")\n"
   ]
  },
  {
   "cell_type": "markdown",
   "metadata": {},
   "source": [
    "Lista de proyectos sin personas asignadas (detección de anomalía)"
   ]
  },
  {
   "cell_type": "code",
   "execution_count": 46,
   "metadata": {},
   "outputs": [
    {
     "name": "stdout",
     "output_type": "stream",
     "text": [
      "Lista de proyectos sin personas: [5, 8, 11, 12, 13, 15]\n"
     ]
    }
   ],
   "source": [
    "proyectos_sin_personas = []\n",
    "\n",
    "for id_proyecto in proyectos[\"id_proyecto\"]:\n",
    "    try:\n",
    "        personas_proyecto = asignaciones_por_proyecto[id_proyecto]\n",
    "    except KeyError:\n",
    "        proyectos_sin_personas.append(id_proyecto)\n",
    "\n",
    "print(f\"Lista de proyectos sin personas: {proyectos_sin_personas}\")"
   ]
  }
 ],
 "metadata": {
  "kernelspec": {
   "display_name": "Python 3",
   "language": "python",
   "name": "python3"
  },
  "language_info": {
   "codemirror_mode": {
    "name": "ipython",
    "version": 3
   },
   "file_extension": ".py",
   "mimetype": "text/x-python",
   "name": "python",
   "nbconvert_exporter": "python",
   "pygments_lexer": "ipython3",
   "version": "3.12.9"
  }
 },
 "nbformat": 4,
 "nbformat_minor": 2
}
